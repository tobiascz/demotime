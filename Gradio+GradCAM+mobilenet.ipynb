{
  "cells": [
    {
      "cell_type": "markdown",
      "metadata": {
        "id": "view-in-github",
        "colab_type": "text"
      },
      "source": [
        "<a href=\"https://colab.research.google.com/github/tobiascz/demotime/blob/main/Gradio%2BGradCAM%2Bmobilenet.ipynb\" target=\"_parent\"><img src=\"https://colab.research.google.com/assets/colab-badge.svg\" alt=\"Open In Colab\"/></a>"
      ]
    },
    {
      "cell_type": "markdown",
      "metadata": {
        "id": "r3O67M6nRFPe"
      },
      "source": [
        "Pytorch"
      ]
    },
    {
      "cell_type": "code",
      "execution_count": null,
      "metadata": {
        "id": "tEF7ZOQpAlw7"
      },
      "outputs": [],
      "source": [
        "# import pytorch related dependencies\n",
        "import torch\n",
        "from PIL import Image\n",
        "from torch import nn\n",
        "import numpy as np\n",
        "import torchvision as torchvision\n",
        "import torchvision.transforms as transforms"
      ]
    },
    {
      "cell_type": "code",
      "execution_count": null,
      "metadata": {
        "id": "Xq2ezyoDApFC"
      },
      "outputs": [],
      "source": [
        "# model setup\n",
        "device = torch.device('cuda' if torch.cuda.is_available() else 'cpu')\n",
        "classes = [ 'actinic keratoses', 'basal cell carcinoma', 'benign keratosis-like lesions', \n",
        "           'dermatofibroma','melanoma', 'melanocytic nevi', 'vascular lesions']\n",
        "model = torchvision.models.mobilenet_v3_large(pretrained = False) # This is a very well known network but it is designed for 1000 classes and not just cats and dogs this is why we need the next line\n",
        "model.classifier[3] = nn.Linear(1280, 7)\n",
        "state_dict_trained = torch.hub.load_state_dict_from_url(\"https://github.com/tobiascz/demotime/raw/main/checkpoints/ham10k_checkpoint_mobile_0.82_epoch24.pt\", model_dir=\".\", map_location = device)\n",
        "model.load_state_dict(state_dict_trained[\"model_state_dict\"]) ## Here we load the trained weights (state_dict) in our model \n",
        "model.eval() # This"
      ]
    },
    {
      "cell_type": "code",
      "execution_count": null,
      "metadata": {
        "id": "4osvWf91BetB"
      },
      "outputs": [],
      "source": [
        "# image pre-processing\n",
        "norm_mean = (0.4914, 0.4822, 0.4465)\n",
        "norm_std = (0.2023, 0.1994, 0.2010)\n",
        "transform = transforms.Compose([ # resize image to the network input size\n",
        "                  transforms.CenterCrop((400,400)),\n",
        "                  transforms.ToTensor(),\n",
        "                  transforms.Normalize(norm_mean, norm_std)\n",
        "                  ])\n",
        "# convert tensot to numpy array\n",
        "def tensor2npimg(tensor, mean, std):\n",
        "  # inverse of normalization\n",
        "  tensor = tensor.clone()\n",
        "  mean_tensor = torch.as_tensor(list(mean), dtype=tensor.dtype, device=tensor.device).view(-1,1,1)\n",
        "  std_tensor = torch.as_tensor(list(std), dtype=tensor.dtype, device=tensor.device).view(-1,1,1)\n",
        "  tensor.mul_(std_tensor).add_(mean_tensor)\n",
        "  # convert tensor to numpy format for plt presentation\n",
        "  npimg = tensor.numpy()\n",
        "  npimg = np.transpose(npimg,(1,2,0)) # C*H*W => H*W*C\n",
        "  return npimg"
      ]
    },
    {
      "cell_type": "markdown",
      "metadata": {
        "id": "1iB6x_vvRKMR"
      },
      "source": [
        "GradCAM"
      ]
    },
    {
      "cell_type": "code",
      "execution_count": null,
      "metadata": {
        "id": "RpEzHB0kRM-a"
      },
      "outputs": [],
      "source": [
        "# clone repository\n",
        "!git clone https://github.com/jacobgil/pytorch-grad-cam.git\n",
        "# install requirements\n",
        "!pip install -r /content/pytorch-grad-cam/requirements.txt\n",
        "# move core module to working directiory\n",
        "!mv /content/pytorch-grad-cam/pytorch_grad_cam /content/pytorch_grad_cam"
      ]
    },
    {
      "cell_type": "code",
      "execution_count": null,
      "metadata": {
        "id": "kFW6U5KuCX95"
      },
      "outputs": [],
      "source": [
        "from pytorch_grad_cam import GradCAM, ScoreCAM, GradCAMPlusPlus, AblationCAM, XGradCAM, EigenCAM, FullGrad\n",
        "from pytorch_grad_cam.utils.image import show_cam_on_image"
      ]
    },
    {
      "cell_type": "code",
      "execution_count": null,
      "metadata": {
        "id": "qBJYwkyXBzVh"
      },
      "outputs": [],
      "source": [
        "# draw Grad-CAM on image\n",
        "# target layer could be any layer before the final attention block\n",
        "# Some common choices are:\n",
        "#   FasterRCNN: model.backbone\n",
        "#   Resnet18 and 50: model.layer4[-1]\n",
        "#   VGG and densenet161: model.features[-1]\n",
        "#   mnasnet1_0: model.layers[-1]\n",
        "#   ViT: model.blocks[-1].norm1\n",
        "#   SwinT: model.layers[-1].blocks[-1].norm1\n",
        "def image_grad_cam(model, input_tensor, input_float_np, target_layers):\n",
        "  cam = GradCAM(model=model, target_layers=target_layers, use_cuda=False)\n",
        "  grayscale_cam = cam(input_tensor=input_tensor, aug_smooth=True, eigen_smooth=True)\n",
        "  grayscale_cam = grayscale_cam[0, :]\n",
        "  return show_cam_on_image(input_float_np, grayscale_cam, use_rgb=True)"
      ]
    },
    {
      "cell_type": "markdown",
      "metadata": {
        "id": "EWTyTtaKROWj"
      },
      "source": [
        "Gradio"
      ]
    },
    {
      "cell_type": "code",
      "execution_count": null,
      "metadata": {
        "id": "PpLn8Qu3RPhX"
      },
      "outputs": [],
      "source": [
        "# install dependencies\n",
        "!pip install gradio\n",
        "import gradio as gr"
      ]
    },
    {
      "cell_type": "code",
      "source": [
        "# download sample images\n",
        "!wget https://4ag46i294nta1038p13v77x1-wpengine.netdna-ssl.com/wp-content/uploads/basal-cell-carcinoma-2-open-sore.png\n",
        "!mv /content/basal-cell-carcinoma-2-open-sore.png /content/sample1.png\n",
        "!wget https://www.researchgate.net/profile/Kabir-Sardana/publication/261140754/figure/fig11/AS:669586957541379@1536653379254/Raised-pigmented-papular-lesion-pathognomic-of-a-compound-melanocytic-nevi.jpg\n",
        "!mv /content/Raised-pigmented-papular-lesion-pathognomic-of-a-compound-melanocytic-nevi.jpg /content/sample2.jpg\n",
        "!wget https://images.medicinenet.com/images/slideshow/skin_cancer_s2_actinic_keratosis.jpg\n",
        "!mv /content/skin_cancer_s2_actinic_keratosis.jpg /content/sample3.jpg"
      ],
      "metadata": {
        "id": "Fv1yAxlr8x5G"
      },
      "execution_count": null,
      "outputs": []
    },
    {
      "cell_type": "code",
      "execution_count": null,
      "metadata": {
        "id": "A1JUnGNFBozr"
      },
      "outputs": [],
      "source": [
        "# config the predict function for Gradio, input type of image is numpy.nparray\n",
        "def predict(input_img):\n",
        "  # numpy.nparray -> PIL.Image\n",
        "  leasionExample = Image.fromarray(input_img.astype('uint8'), 'RGB')\n",
        "  # normalize the image to fit the input size of our model\n",
        "  leasion_tensor = transform(leasionExample)\n",
        "  input_float_np = tensor2npimg(leasion_tensor, norm_mean, norm_std)\n",
        "  leasion_tensor = leasion_tensor.unsqueeze(dim=0)\n",
        "  # predict\n",
        "  with torch.no_grad():\n",
        "    outputs = model(leasion_tensor)\n",
        "  outputs = torch.exp(outputs) \n",
        "  # probabilities of all classes\n",
        "  pred_softmax = torch.softmax(outputs, dim=1).cpu().numpy()[0]\n",
        "  # class with hightest probability\n",
        "  pred = torch.argmax(outputs, dim=1).cpu().numpy()\n",
        "  # diagnostic suggestions\n",
        "  if pred == 1 or pred == 4:\n",
        "    suggestion = \"CHECK WITH YOUR MD!\"\n",
        "  else:\n",
        "    suggestion = \"Nothing to be worried about.\"\n",
        "  # grad_cam image\n",
        "  target_layers = model.features[-1]\n",
        "  output_img = image_grad_cam(model,leasion_tensor,input_float_np,target_layers)\n",
        "  # return label dict and suggestion\n",
        "  return {classes[i]: float(pred_softmax[i]) for i in range(len(classes))}, suggestion, output_img"
      ]
    },
    {
      "cell_type": "code",
      "execution_count": null,
      "metadata": {
        "id": "hzVRtrVmCgC7"
      },
      "outputs": [],
      "source": [
        "# start gradio application\n",
        "gr.Interface(\n",
        "        fn=predict, \n",
        "        inputs=gr.inputs.Image(), \n",
        "        outputs=[gr.outputs.Label(label=\"Predict Result\"), gr.outputs.Textbox(type=\"str\", label=\"Recommendation\"), gr.outputs.Image(label=\"GradCAM\")],\n",
        "        examples=[['sample1.png'],['sample2.jpg'],['sample3.jpg']],\n",
        "        title=\"Skin Lesion Classifier\"\n",
        "      ).launch()"
      ]
    }
  ],
  "metadata": {
    "colab": {
      "collapsed_sections": [],
      "name": "Gradio+GradCAM+mobilenet.ipynb",
      "provenance": [],
      "include_colab_link": true
    },
    "kernelspec": {
      "display_name": "Python 3",
      "name": "python3"
    },
    "language_info": {
      "name": "python"
    }
  },
  "nbformat": 4,
  "nbformat_minor": 0
}