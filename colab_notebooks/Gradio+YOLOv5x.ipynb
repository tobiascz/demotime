{
  "nbformat": 4,
  "nbformat_minor": 0,
  "metadata": {
    "colab": {
      "name": "Gradio_YOLOv5x.ipynb",
      "provenance": [],
      "collapsed_sections": [],
      "authorship_tag": "ABX9TyNzf6DGNjX0iQTj3NcGpbHI",
      "include_colab_link": true
    },
    "kernelspec": {
      "name": "python3",
      "display_name": "Python 3"
    },
    "language_info": {
      "name": "python"
    }
  },
  "cells": [
    {
      "cell_type": "markdown",
      "metadata": {
        "id": "view-in-github",
        "colab_type": "text"
      },
      "source": [
        "<a href=\"https://colab.research.google.com/github/chcomet/CAP-CS4MS/blob/main/Gradio%2BYOLOv5x.ipynb\" target=\"_parent\"><img src=\"https://colab.research.google.com/assets/colab-badge.svg\" alt=\"Open In Colab\"/></a>"
      ]
    },
    {
      "cell_type": "markdown",
      "source": [
        "load YOLOv5x model"
      ],
      "metadata": {
        "id": "z_Uh42-6XXWg"
      }
    },
    {
      "cell_type": "code",
      "source": [
        "!git clone https://github.com/ultralytics/yolov5  # clone\n",
        "!pip install -r /content/yolov5/requirements.txt "
      ],
      "metadata": {
        "id": "9OLIQ9UVN0E6"
      },
      "execution_count": null,
      "outputs": []
    },
    {
      "cell_type": "code",
      "source": [
        "import torch\n",
        "model = torch.hub.load('ultralytics/yolov5', 'yolov5x')  # or yolov5m, yolov5l, yolov5x, custom"
      ],
      "metadata": {
        "id": "fSIjoXvsXk4T"
      },
      "execution_count": null,
      "outputs": []
    },
    {
      "cell_type": "markdown",
      "source": [
        "Gradio Predict function\n"
      ],
      "metadata": {
        "id": "mxu14yiHgav6"
      }
    },
    {
      "cell_type": "code",
      "source": [
        "!pip install opencv-python\n",
        "import cv2\n",
        "import os"
      ],
      "metadata": {
        "id": "pXBPII6Rd3WI"
      },
      "execution_count": null,
      "outputs": []
    },
    {
      "cell_type": "code",
      "source": [
        "def predict(inp):\n",
        "  results = model(inp)\n",
        "  results.save()\n",
        "  counter = len(os.listdir('/content/runs/detect/'))\n",
        "  fileName = f'/content/runs/detect/exp{counter}/image0.jpg' if counter != 0 else '/content/runs/detect/exp/image0.jpg'\n",
        "  return cv2.imread(fileName)[:,:,::-1]"
      ],
      "metadata": {
        "id": "ZwtGhlhXYb0l"
      },
      "execution_count": null,
      "outputs": []
    },
    {
      "cell_type": "markdown",
      "source": [
        "Gradio"
      ],
      "metadata": {
        "id": "EGX6qkRAhFVg"
      }
    },
    {
      "cell_type": "code",
      "source": [
        "# install dependencies\n",
        "!pip install gradio\n",
        "import gradio as gr"
      ],
      "metadata": {
        "id": "PFWns4c0hd-Z"
      },
      "execution_count": null,
      "outputs": []
    },
    {
      "cell_type": "code",
      "source": [
        "# download sample images\n",
        "!wget https://ultralytics.com/images/zidane.jpg"
      ],
      "metadata": {
        "id": "Itpyf26OORIp"
      },
      "execution_count": null,
      "outputs": []
    },
    {
      "cell_type": "code",
      "source": [
        "# start gradio application\n",
        "gr.Interface(fn=predict, inputs=gr.inputs.Image(), outputs=gr.outputs.Image(), examples=[['zidane.jpg']], title=\"Object Detection\").launch()"
      ],
      "metadata": {
        "id": "fRuIaWxMhKaw"
      },
      "execution_count": null,
      "outputs": []
    }
  ]
}